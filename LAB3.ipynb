{
 "cells": [
  {
   "cell_type": "code",
   "execution_count": 10,
   "id": "2cf59161-b1cb-4026-ae2c-7b74ec812280",
   "metadata": {},
   "outputs": [],
   "source": [
    "# # 1]Python program to check leap year\n",
    "\n",
    "# #taking input as year from the user\n",
    "# year=int(input(\"Enter the year\"))\n",
    "\n",
    "# #checking whether the year is leap year or not \n",
    "# if (year%4==0 and year%100 !=0) or (year%400==0):\n",
    "#     print(f\"{year} is a leap year\")\n",
    "# else:\n",
    "#     print(f\"{year} is not a leap year\")    \n",
    "\n",
    "# ----------------------------------------------------\n",
    "\n",
    "#2]python program to find the largest among three numbers.\n",
    "\n",
    "#taking input from user\n",
    "# number1=int(input(\"Enter the first number:\"))\n",
    "# number2=int(input(\"Enter the first number:\"))\n",
    "# number3=int(input(\"Enter the first number:\"))\n",
    "\n",
    "# if(number1>number2) and (number1>number3):\n",
    "#     print(f\"{number1} is largest number\")\n",
    "# elif(number2>number1) and (number2>number3):\n",
    "#     print(f\"{number2} is largest number\")\n",
    "# else:\n",
    "#     print(f\"{number3} is largest number\")\n",
    "    \n",
    "# ------------------------------------------------------    \n",
    "\n",
    "#3] Python program to check if a number is positive negative or zero\n",
    "\n",
    "# #taking input from user\n",
    "# number=int(input(\"Enter the number:\"))\n",
    "\n",
    "# #check if number is positive ,negative or zero\n",
    "# if (number ==0):\n",
    "#     print(\"The number is zero\")\n",
    "# elif(number>0):\n",
    "#     print(\"The number is positive\")\n",
    "# else:\n",
    "#     print(\"THe number is negative\")\n",
    "\n",
    "------------------------------------------------------\n",
    "\n",
    "#4] A toy vendor supplies three types of toys:Battery Based Toys,Key-based Toys, and Electrical Charging Based Toys. \n",
    "The vendor gives a discount of 10%on order for battery-based toys if the order is for more than Rs.1000. \n",
    "On order of more than Rs.100 for Key-based toys, a discount of 5% is given, \n",
    "and a discount of 10%is given on orders for electrical charging based toys of value more than Rs.500. \n",
    "Assume that the numeric codes 1,2and3 are used for battery based toys, key-based toys,and electrical charging based toys respectively.\n",
    "Write a program that reads the product code and the order amount and prints out the net amount that the customer is required to pay after the discount.\n",
    "\n",
    "#5] A transport company charges the fare according to following table.\n",
    "\n"
   ]
  },
  {
   "cell_type": "code",
   "execution_count": null,
   "id": "5648fcb9-3bd0-4117-a32d-43c76c96cc35",
   "metadata": {},
   "outputs": [],
   "source": []
  }
 ],
 "metadata": {
  "kernelspec": {
   "display_name": "Python 3 (ipykernel)",
   "language": "python",
   "name": "python3"
  },
  "language_info": {
   "codemirror_mode": {
    "name": "ipython",
    "version": 3
   },
   "file_extension": ".py",
   "mimetype": "text/x-python",
   "name": "python",
   "nbconvert_exporter": "python",
   "pygments_lexer": "ipython3",
   "version": "3.13.0"
  }
 },
 "nbformat": 4,
 "nbformat_minor": 5
}

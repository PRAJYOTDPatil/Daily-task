{
 "cells": [
  {
   "cell_type": "code",
   "execution_count": null,
   "id": "c4815caf-43ee-466b-92f3-6466e89dbd78",
   "metadata": {},
   "outputs": [],
   "source": [
    "# Lab 2\n",
    "# 1] Check even or add using ternary operator\n",
    "\n",
    "#taking input from user \n",
    "number=int(input(\"Enter the number \"))\n",
    "\n",
    "#check whether the number is even or odd\n",
    "result=\"Even number\" if number % 2==0 else \"Odd number\"\n",
    "print(f\"{number} is {result}\")\n",
    "\n",
    "-------------------------------------------------------------------\n",
    "#2]swap two numbers \n",
    "\n",
    "#taking two numbers from user\n",
    "number1=int(input(\"Enter the number \"))\n",
    "number2=int(input(\"Enter the number \"))\n",
    "\n",
    "print(f\"Before Swapping: {number1},{number2}\")\n",
    "\n",
    "#swap the numbers\n",
    "number1,number2=number2,number1\n",
    "\n",
    "print(f\"After Swapping: {number1},{number2}\")\n",
    "\n",
    "-------------------------------------------------------------------\n",
    "\n",
    "#3] Convert kilometeres to Miles\n",
    "\n",
    "#taking input from user \n",
    "kilometers=int(input(\"Enter the distance in kilometer\"))\n",
    "\n",
    "#conversion factor\n",
    "conversion_factor=0.621\n",
    "\n",
    "#convert to miles\n",
    "miles= kilometers * conversion_factor\n",
    "\n",
    "print(f\"{kilometers} in {miles}\")\n",
    "\n",
    "\n",
    "--------------------------------------------------------------------\n",
    "# 4]Simple interest\n",
    "\n",
    "#taking input from user \n",
    "principal_interest= int(input(\"Enter the amount\"))\n",
    "rate=int(input(\"Enter the rate of interest\"))\n",
    "time=int(input(\"Enter the time in years\"))\n",
    "\n",
    "#calculate simple interest\n",
    "simple_interest= (principal_interest * rate * time)/100\n",
    "\n",
    "print(f\"Simple interest is: {simple_interest}\")"
   ]
  }
 ],
 "metadata": {
  "kernelspec": {
   "display_name": "Python 3 (ipykernel)",
   "language": "python",
   "name": "python3"
  },
  "language_info": {
   "codemirror_mode": {
    "name": "ipython",
    "version": 3
   },
   "file_extension": ".py",
   "mimetype": "text/x-python",
   "name": "python",
   "nbconvert_exporter": "python",
   "pygments_lexer": "ipython3",
   "version": "3.13.0"
  }
 },
 "nbformat": 4,
 "nbformat_minor": 5
}

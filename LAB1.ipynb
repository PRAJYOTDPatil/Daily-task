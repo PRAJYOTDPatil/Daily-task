{
 "cells": [
  {
   "cell_type": "code",
   "execution_count": 12,
   "id": "f531ab8a-0e89-4362-a9d2-35062029509b",
   "metadata": {},
   "outputs": [
    {
     "name": "stdin",
     "output_type": "stream",
     "text": [
      "Enter the first side of the triangle:  3\n",
      "Enter the second side of the triangle:  5\n",
      "Enter the third side of the triangle:  5\n"
     ]
    },
    {
     "name": "stdout",
     "output_type": "stream",
     "text": [
      "The area of the triangle is: 7.1545440106270926\n"
     ]
    }
   ],
   "source": [
    "# 1] calculate the multiplication and addition of two numbers \n",
    "\n",
    "# taking User input \n",
    "number1=int(input(\"Enter the first number:\"))\n",
    "number2=int(input(\"Enter the second number:\"))\n",
    "\n",
    "#performing multiplication and division\n",
    "multiplication=number1*number2\n",
    "addition=number1+number2\n",
    "\n",
    "print(\"Multiplication :\",multiplication)\n",
    "print(\"Sum:\",addition)\n",
    "\n",
    "# 2]Declare two variables and print that which variable is largest using ternary operators\n",
    "\n",
    "#User input\n",
    "a=int(input(\"Enter the first number:\"))\n",
    "b=int(input(\"Enter the second number:\"))\n",
    "\n",
    "#checking largest number using ternary operator\n",
    "largest= a if a > b else b\n",
    "print(\"The largest number is:\",largest)\n",
    "\n",
    "# 3]Convert the temperature in degree centigrade to Fahrenheit\n",
    "\n",
    "#user input \n",
    "celsius=float(input(\"Enter the temperature in celsius\"))\n",
    "\n",
    "#converting celsius to fahrenheit\n",
    "fahrenheit=(celsius * 9/5)+32\n",
    "\n",
    "print(\"Temperature in Fahrenheit:\",fahrenheit)\n",
    "\n",
    "\n",
    "# 4]Python program to find the area of a triangle whose sides are given.\n",
    "\n",
    "#user input from user\n",
    "a = int(input(\"Enter the first side of the triangle: \"))\n",
    "b = int(input(\"Enter the second side of the triangle: \"))\n",
    "c = int(input(\"Enter the third side of the triangle: \"))\n",
    "\n",
    "#calculating area of triangle\n",
    "s = (a + b + c) / 2\n",
    "area = (s * (s - a) * (s - b) * (s - c)) ** 0.5\n",
    "\n",
    "print(\"The area of the triangle is:\", area)"
   ]
  },
  {
   "cell_type": "code",
   "execution_count": 7,
   "id": "40eb4e1b-752a-47a0-9e10-047be9bb1e10",
   "metadata": {},
   "outputs": [
    {
     "name": "stdin",
     "output_type": "stream",
     "text": [
      "Enter the number  2\n",
      "Enter the number  3\n"
     ]
    },
    {
     "name": "stdout",
     "output_type": "stream",
     "text": [
      "Before Swapping: 2,3\n",
      "After Swapping: 3,2\n"
     ]
    }
   ],
   "source": [
    "\n"
   ]
  }
 ],
 "metadata": {
  "kernelspec": {
   "display_name": "Python 3 (ipykernel)",
   "language": "python",
   "name": "python3"
  },
  "language_info": {
   "codemirror_mode": {
    "name": "ipython",
    "version": 3
   },
   "file_extension": ".py",
   "mimetype": "text/x-python",
   "name": "python",
   "nbconvert_exporter": "python",
   "pygments_lexer": "ipython3",
   "version": "3.13.0"
  }
 },
 "nbformat": 4,
 "nbformat_minor": 5
}
